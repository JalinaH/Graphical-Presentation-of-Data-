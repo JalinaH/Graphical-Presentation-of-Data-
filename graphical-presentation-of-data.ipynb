{
 "cells": [
  {
   "cell_type": "code",
   "execution_count": 1,
   "id": "8e3df2d1",
   "metadata": {
    "_cell_guid": "b1076dfc-b9ad-4769-8c92-a6c4dae69d19",
    "_uuid": "8f2839f25d086af736a60e9eeb907d3b93b6e0e5",
    "execution": {
     "iopub.execute_input": "2024-04-21T10:36:32.937990Z",
     "iopub.status.busy": "2024-04-21T10:36:32.937473Z",
     "iopub.status.idle": "2024-04-21T10:36:35.967980Z",
     "shell.execute_reply": "2024-04-21T10:36:35.966885Z"
    },
    "papermill": {
     "duration": 3.042944,
     "end_time": "2024-04-21T10:36:35.970965",
     "exception": false,
     "start_time": "2024-04-21T10:36:32.928021",
     "status": "completed"
    },
    "tags": []
   },
   "outputs": [],
   "source": [
    "import sys\n",
    "import pandas as pd\n",
    "import matplotlib.pyplot as plt\n",
    "import seaborn as sns\n",
    "import numpy as np"
   ]
  },
  {
   "cell_type": "code",
   "execution_count": 2,
   "id": "05df0846",
   "metadata": {
    "execution": {
     "iopub.execute_input": "2024-04-21T10:36:35.988434Z",
     "iopub.status.busy": "2024-04-21T10:36:35.987735Z",
     "iopub.status.idle": "2024-04-21T10:36:36.050562Z",
     "shell.execute_reply": "2024-04-21T10:36:36.049165Z"
    },
    "papermill": {
     "duration": 0.074888,
     "end_time": "2024-04-21T10:36:36.053492",
     "exception": false,
     "start_time": "2024-04-21T10:36:35.978604",
     "status": "completed"
    },
    "tags": []
   },
   "outputs": [
    {
     "data": {
      "text/html": [
       "<div>\n",
       "<style scoped>\n",
       "    .dataframe tbody tr th:only-of-type {\n",
       "        vertical-align: middle;\n",
       "    }\n",
       "\n",
       "    .dataframe tbody tr th {\n",
       "        vertical-align: top;\n",
       "    }\n",
       "\n",
       "    .dataframe thead th {\n",
       "        text-align: right;\n",
       "    }\n",
       "</style>\n",
       "<table border=\"1\" class=\"dataframe\">\n",
       "  <thead>\n",
       "    <tr style=\"text-align: right;\">\n",
       "      <th></th>\n",
       "      <th>PassengerId</th>\n",
       "      <th>Survived</th>\n",
       "      <th>Pclass</th>\n",
       "      <th>Name</th>\n",
       "      <th>Sex</th>\n",
       "      <th>Age</th>\n",
       "      <th>SibSp</th>\n",
       "      <th>Parch</th>\n",
       "      <th>Ticket</th>\n",
       "      <th>Fare</th>\n",
       "      <th>Cabin</th>\n",
       "      <th>Embarked</th>\n",
       "    </tr>\n",
       "  </thead>\n",
       "  <tbody>\n",
       "    <tr>\n",
       "      <th>0</th>\n",
       "      <td>1</td>\n",
       "      <td>0</td>\n",
       "      <td>3</td>\n",
       "      <td>Braund, Mr. Owen Harris</td>\n",
       "      <td>male</td>\n",
       "      <td>22.0</td>\n",
       "      <td>1</td>\n",
       "      <td>0</td>\n",
       "      <td>A/5 21171</td>\n",
       "      <td>7.2500</td>\n",
       "      <td>NaN</td>\n",
       "      <td>S</td>\n",
       "    </tr>\n",
       "    <tr>\n",
       "      <th>1</th>\n",
       "      <td>2</td>\n",
       "      <td>1</td>\n",
       "      <td>1</td>\n",
       "      <td>Cumings, Mrs. John Bradley (Florence Briggs Th...</td>\n",
       "      <td>female</td>\n",
       "      <td>38.0</td>\n",
       "      <td>1</td>\n",
       "      <td>0</td>\n",
       "      <td>PC 17599</td>\n",
       "      <td>71.2833</td>\n",
       "      <td>C85</td>\n",
       "      <td>C</td>\n",
       "    </tr>\n",
       "    <tr>\n",
       "      <th>2</th>\n",
       "      <td>3</td>\n",
       "      <td>1</td>\n",
       "      <td>3</td>\n",
       "      <td>Heikkinen, Miss. Laina</td>\n",
       "      <td>female</td>\n",
       "      <td>26.0</td>\n",
       "      <td>0</td>\n",
       "      <td>0</td>\n",
       "      <td>STON/O2. 3101282</td>\n",
       "      <td>7.9250</td>\n",
       "      <td>NaN</td>\n",
       "      <td>S</td>\n",
       "    </tr>\n",
       "    <tr>\n",
       "      <th>3</th>\n",
       "      <td>4</td>\n",
       "      <td>1</td>\n",
       "      <td>1</td>\n",
       "      <td>Futrelle, Mrs. Jacques Heath (Lily May Peel)</td>\n",
       "      <td>female</td>\n",
       "      <td>35.0</td>\n",
       "      <td>1</td>\n",
       "      <td>0</td>\n",
       "      <td>113803</td>\n",
       "      <td>53.1000</td>\n",
       "      <td>C123</td>\n",
       "      <td>S</td>\n",
       "    </tr>\n",
       "    <tr>\n",
       "      <th>4</th>\n",
       "      <td>5</td>\n",
       "      <td>0</td>\n",
       "      <td>3</td>\n",
       "      <td>Allen, Mr. William Henry</td>\n",
       "      <td>male</td>\n",
       "      <td>35.0</td>\n",
       "      <td>0</td>\n",
       "      <td>0</td>\n",
       "      <td>373450</td>\n",
       "      <td>8.0500</td>\n",
       "      <td>NaN</td>\n",
       "      <td>S</td>\n",
       "    </tr>\n",
       "  </tbody>\n",
       "</table>\n",
       "</div>"
      ],
      "text/plain": [
       "   PassengerId  Survived  Pclass  \\\n",
       "0            1         0       3   \n",
       "1            2         1       1   \n",
       "2            3         1       3   \n",
       "3            4         1       1   \n",
       "4            5         0       3   \n",
       "\n",
       "                                                Name     Sex   Age  SibSp  \\\n",
       "0                            Braund, Mr. Owen Harris    male  22.0      1   \n",
       "1  Cumings, Mrs. John Bradley (Florence Briggs Th...  female  38.0      1   \n",
       "2                             Heikkinen, Miss. Laina  female  26.0      0   \n",
       "3       Futrelle, Mrs. Jacques Heath (Lily May Peel)  female  35.0      1   \n",
       "4                           Allen, Mr. William Henry    male  35.0      0   \n",
       "\n",
       "   Parch            Ticket     Fare Cabin Embarked  \n",
       "0      0         A/5 21171   7.2500   NaN        S  \n",
       "1      0          PC 17599  71.2833   C85        C  \n",
       "2      0  STON/O2. 3101282   7.9250   NaN        S  \n",
       "3      0            113803  53.1000  C123        S  \n",
       "4      0            373450   8.0500   NaN        S  "
      ]
     },
     "execution_count": 2,
     "metadata": {},
     "output_type": "execute_result"
    }
   ],
   "source": [
    "df = pd.read_csv(\"/kaggle/input/titanic-dataset/titanic.csv\")\n",
    "df.head()"
   ]
  },
  {
   "cell_type": "code",
   "execution_count": 3,
   "id": "f7126500",
   "metadata": {
    "execution": {
     "iopub.execute_input": "2024-04-21T10:36:36.070903Z",
     "iopub.status.busy": "2024-04-21T10:36:36.070429Z",
     "iopub.status.idle": "2024-04-21T10:36:36.111119Z",
     "shell.execute_reply": "2024-04-21T10:36:36.109949Z"
    },
    "papermill": {
     "duration": 0.053065,
     "end_time": "2024-04-21T10:36:36.114225",
     "exception": false,
     "start_time": "2024-04-21T10:36:36.061160",
     "status": "completed"
    },
    "tags": []
   },
   "outputs": [
    {
     "data": {
      "text/html": [
       "<div>\n",
       "<style scoped>\n",
       "    .dataframe tbody tr th:only-of-type {\n",
       "        vertical-align: middle;\n",
       "    }\n",
       "\n",
       "    .dataframe tbody tr th {\n",
       "        vertical-align: top;\n",
       "    }\n",
       "\n",
       "    .dataframe thead th {\n",
       "        text-align: right;\n",
       "    }\n",
       "</style>\n",
       "<table border=\"1\" class=\"dataframe\">\n",
       "  <thead>\n",
       "    <tr style=\"text-align: right;\">\n",
       "      <th></th>\n",
       "      <th>PassengerId</th>\n",
       "      <th>Survived</th>\n",
       "      <th>Pclass</th>\n",
       "      <th>Age</th>\n",
       "      <th>SibSp</th>\n",
       "      <th>Parch</th>\n",
       "      <th>Fare</th>\n",
       "    </tr>\n",
       "  </thead>\n",
       "  <tbody>\n",
       "    <tr>\n",
       "      <th>count</th>\n",
       "      <td>891.000000</td>\n",
       "      <td>891.000000</td>\n",
       "      <td>891.000000</td>\n",
       "      <td>714.000000</td>\n",
       "      <td>891.000000</td>\n",
       "      <td>891.000000</td>\n",
       "      <td>891.000000</td>\n",
       "    </tr>\n",
       "    <tr>\n",
       "      <th>mean</th>\n",
       "      <td>446.000000</td>\n",
       "      <td>0.383838</td>\n",
       "      <td>2.308642</td>\n",
       "      <td>29.699118</td>\n",
       "      <td>0.523008</td>\n",
       "      <td>0.381594</td>\n",
       "      <td>32.204208</td>\n",
       "    </tr>\n",
       "    <tr>\n",
       "      <th>std</th>\n",
       "      <td>257.353842</td>\n",
       "      <td>0.486592</td>\n",
       "      <td>0.836071</td>\n",
       "      <td>14.526497</td>\n",
       "      <td>1.102743</td>\n",
       "      <td>0.806057</td>\n",
       "      <td>49.693429</td>\n",
       "    </tr>\n",
       "    <tr>\n",
       "      <th>min</th>\n",
       "      <td>1.000000</td>\n",
       "      <td>0.000000</td>\n",
       "      <td>1.000000</td>\n",
       "      <td>0.420000</td>\n",
       "      <td>0.000000</td>\n",
       "      <td>0.000000</td>\n",
       "      <td>0.000000</td>\n",
       "    </tr>\n",
       "    <tr>\n",
       "      <th>25%</th>\n",
       "      <td>223.500000</td>\n",
       "      <td>0.000000</td>\n",
       "      <td>2.000000</td>\n",
       "      <td>20.125000</td>\n",
       "      <td>0.000000</td>\n",
       "      <td>0.000000</td>\n",
       "      <td>7.910400</td>\n",
       "    </tr>\n",
       "    <tr>\n",
       "      <th>50%</th>\n",
       "      <td>446.000000</td>\n",
       "      <td>0.000000</td>\n",
       "      <td>3.000000</td>\n",
       "      <td>28.000000</td>\n",
       "      <td>0.000000</td>\n",
       "      <td>0.000000</td>\n",
       "      <td>14.454200</td>\n",
       "    </tr>\n",
       "    <tr>\n",
       "      <th>75%</th>\n",
       "      <td>668.500000</td>\n",
       "      <td>1.000000</td>\n",
       "      <td>3.000000</td>\n",
       "      <td>38.000000</td>\n",
       "      <td>1.000000</td>\n",
       "      <td>0.000000</td>\n",
       "      <td>31.000000</td>\n",
       "    </tr>\n",
       "    <tr>\n",
       "      <th>max</th>\n",
       "      <td>891.000000</td>\n",
       "      <td>1.000000</td>\n",
       "      <td>3.000000</td>\n",
       "      <td>80.000000</td>\n",
       "      <td>8.000000</td>\n",
       "      <td>6.000000</td>\n",
       "      <td>512.329200</td>\n",
       "    </tr>\n",
       "  </tbody>\n",
       "</table>\n",
       "</div>"
      ],
      "text/plain": [
       "       PassengerId    Survived      Pclass         Age       SibSp  \\\n",
       "count   891.000000  891.000000  891.000000  714.000000  891.000000   \n",
       "mean    446.000000    0.383838    2.308642   29.699118    0.523008   \n",
       "std     257.353842    0.486592    0.836071   14.526497    1.102743   \n",
       "min       1.000000    0.000000    1.000000    0.420000    0.000000   \n",
       "25%     223.500000    0.000000    2.000000   20.125000    0.000000   \n",
       "50%     446.000000    0.000000    3.000000   28.000000    0.000000   \n",
       "75%     668.500000    1.000000    3.000000   38.000000    1.000000   \n",
       "max     891.000000    1.000000    3.000000   80.000000    8.000000   \n",
       "\n",
       "            Parch        Fare  \n",
       "count  891.000000  891.000000  \n",
       "mean     0.381594   32.204208  \n",
       "std      0.806057   49.693429  \n",
       "min      0.000000    0.000000  \n",
       "25%      0.000000    7.910400  \n",
       "50%      0.000000   14.454200  \n",
       "75%      0.000000   31.000000  \n",
       "max      6.000000  512.329200  "
      ]
     },
     "execution_count": 3,
     "metadata": {},
     "output_type": "execute_result"
    }
   ],
   "source": [
    "df.describe()"
   ]
  },
  {
   "cell_type": "code",
   "execution_count": 4,
   "id": "08c5fbab",
   "metadata": {
    "execution": {
     "iopub.execute_input": "2024-04-21T10:36:36.132590Z",
     "iopub.status.busy": "2024-04-21T10:36:36.132139Z",
     "iopub.status.idle": "2024-04-21T10:36:36.145822Z",
     "shell.execute_reply": "2024-04-21T10:36:36.144510Z"
    },
    "papermill": {
     "duration": 0.026242,
     "end_time": "2024-04-21T10:36:36.148677",
     "exception": false,
     "start_time": "2024-04-21T10:36:36.122435",
     "status": "completed"
    },
    "tags": []
   },
   "outputs": [
    {
     "data": {
      "text/plain": [
       "count    714.000000\n",
       "mean      29.699118\n",
       "std       14.526497\n",
       "min        0.420000\n",
       "25%       20.125000\n",
       "50%       28.000000\n",
       "75%       38.000000\n",
       "max       80.000000\n",
       "Name: Age, dtype: float64"
      ]
     },
     "execution_count": 4,
     "metadata": {},
     "output_type": "execute_result"
    }
   ],
   "source": [
    "df.Age.describe()"
   ]
  },
  {
   "cell_type": "code",
   "execution_count": 5,
   "id": "b4dc3b47",
   "metadata": {
    "execution": {
     "iopub.execute_input": "2024-04-21T10:36:36.167476Z",
     "iopub.status.busy": "2024-04-21T10:36:36.167023Z",
     "iopub.status.idle": "2024-04-21T10:36:36.506999Z",
     "shell.execute_reply": "2024-04-21T10:36:36.505666Z"
    },
    "papermill": {
     "duration": 0.352886,
     "end_time": "2024-04-21T10:36:36.509908",
     "exception": false,
     "start_time": "2024-04-21T10:36:36.157022",
     "status": "completed"
    },
    "tags": []
   },
   "outputs": [
    {
     "data": {
      "text/plain": [
       "[Text(0.5, 0, 'Survival Condition'),\n",
       " Text(0, 0.5, 'Count'),\n",
       " Text(0.5, 1.0, 'Composition of passengers by survival condition')]"
      ]
     },
     "execution_count": 5,
     "metadata": {},
     "output_type": "execute_result"
    },
    {
     "data": {
      "image/png": "[encoded data removed]",
      "text/plain": [
       "<Figure size 640x480 with 1 Axes>"
      ]
     },
     "metadata": {},
     "output_type": "display_data"
    }
   ],
   "source": [
    "p1 = sns.countplot(x='Survived', data=df, alpha=0.8, color='blue')\n",
    "p1.set(xlabel='Survival Condition', ylabel='Count', title='Composition of passengers by survival condition')"
   ]
  },
  {
   "cell_type": "code",
   "execution_count": 6,
   "id": "44ac9746",
   "metadata": {
    "execution": {
     "iopub.execute_input": "2024-04-21T10:36:36.529676Z",
     "iopub.status.busy": "2024-04-21T10:36:36.529151Z",
     "iopub.status.idle": "2024-04-21T10:36:37.005056Z",
     "shell.execute_reply": "2024-04-21T10:36:37.003473Z"
    },
    "papermill": {
     "duration": 0.489409,
     "end_time": "2024-04-21T10:36:37.008160",
     "exception": false,
     "start_time": "2024-04-21T10:36:36.518751",
     "status": "completed"
    },
    "tags": []
   },
   "outputs": [
    {
     "data": {
      "text/plain": [
       "[Text(0.5, 0, 'Survival Condition'),\n",
       " Text(0, 0.5, 'Percentage'),\n",
       " Text(0.5, 1.0, 'Composition of passengers by survival condition')]"
      ]
     },
     "execution_count": 6,
     "metadata": {},
     "output_type": "execute_result"
    },
    {
     "data": {
      "image/png": "[encoded data removed]",
      "text/plain": [
       "<Figure size 640x480 with 1 Axes>"
      ]
     },
     "metadata": {},
     "output_type": "display_data"
    }
   ],
   "source": [
    "p2 = sns.barplot(x = 'Survived',\n",
    "                 y = 'Survived',\n",
    "                 data = df,\n",
    "                 estimator = lambda x: len(x) / len(df) * 100,\n",
    "                 color = 'blue'\n",
    "                 )\n",
    "p2.set(xlabel = 'Survival Condition', ylabel = 'Percentage', title = 'Composition of passengers by survival condition')"
   ]
  },
  {
   "cell_type": "code",
   "execution_count": null,
   "id": "04121766",
   "metadata": {
    "papermill": {
     "duration": 0.00917,
     "end_time": "2024-04-21T10:36:37.027111",
     "exception": false,
     "start_time": "2024-04-21T10:36:37.017941",
     "status": "completed"
    },
    "tags": []
   },
   "outputs": [],
   "source": []
  },
  {
   "cell_type": "markdown",
   "id": "cd6bc22f",
   "metadata": {
    "papermill": {
     "duration": 0.009119,
     "end_time": "2024-04-21T10:36:37.046306",
     "exception": false,
     "start_time": "2024-04-21T10:36:37.037187",
     "status": "completed"
    },
    "tags": []
   },
   "source": [
    "**Lambdas:**  \n",
    "The expression comprises of three essential parts."
   ]
  },
  {
   "cell_type": "code",
   "execution_count": 7,
   "id": "7ee9697d",
   "metadata": {
    "execution": {
     "iopub.execute_input": "2024-04-21T10:36:37.067708Z",
     "iopub.status.busy": "2024-04-21T10:36:37.066672Z",
     "iopub.status.idle": "2024-04-21T10:36:37.074308Z",
     "shell.execute_reply": "2024-04-21T10:36:37.073070Z"
    },
    "papermill": {
     "duration": 0.021487,
     "end_time": "2024-04-21T10:36:37.077133",
     "exception": false,
     "start_time": "2024-04-21T10:36:37.055646",
     "status": "completed"
    },
    "tags": []
   },
   "outputs": [
    {
     "name": "stdout",
     "output_type": "stream",
     "text": [
      "Welcome Jalina!! Your waiting number is 6\n"
     ]
    }
   ],
   "source": [
    "def my_function(x, y):\n",
    "  y = y+2\n",
    "  print(\"Welcome \" + x + \"!! Your waiting number is \" + str(y))\n",
    "\n",
    "my_function(\"Jalina\", 4)\n"
   ]
  },
  {
   "cell_type": "code",
   "execution_count": 8,
   "id": "220700c8",
   "metadata": {
    "execution": {
     "iopub.execute_input": "2024-04-21T10:36:37.100503Z",
     "iopub.status.busy": "2024-04-21T10:36:37.099994Z",
     "iopub.status.idle": "2024-04-21T10:36:37.108216Z",
     "shell.execute_reply": "2024-04-21T10:36:37.107001Z"
    },
    "papermill": {
     "duration": 0.024049,
     "end_time": "2024-04-21T10:36:37.110838",
     "exception": false,
     "start_time": "2024-04-21T10:36:37.086789",
     "status": "completed"
    },
    "tags": []
   },
   "outputs": [
    {
     "data": {
      "text/plain": [
       "7"
      ]
     },
     "execution_count": 8,
     "metadata": {},
     "output_type": "execute_result"
    }
   ],
   "source": [
    "(lambda x, z: x+z)(2, 5)"
   ]
  },
  {
   "cell_type": "code",
   "execution_count": 9,
   "id": "1898aa1e",
   "metadata": {
    "execution": {
     "iopub.execute_input": "2024-04-21T10:36:37.133649Z",
     "iopub.status.busy": "2024-04-21T10:36:37.133183Z",
     "iopub.status.idle": "2024-04-21T10:36:37.141710Z",
     "shell.execute_reply": "2024-04-21T10:36:37.140397Z"
    },
    "papermill": {
     "duration": 0.023818,
     "end_time": "2024-04-21T10:36:37.144289",
     "exception": false,
     "start_time": "2024-04-21T10:36:37.120471",
     "status": "completed"
    },
    "tags": []
   },
   "outputs": [
    {
     "data": {
      "text/plain": [
       "7"
      ]
     },
     "execution_count": 9,
     "metadata": {},
     "output_type": "execute_result"
    }
   ],
   "source": [
    "add = lambda x, y: x+y\n",
    "add(2, 5)"
   ]
  },
  {
   "cell_type": "code",
   "execution_count": 10,
   "id": "f9adb556",
   "metadata": {
    "execution": {
     "iopub.execute_input": "2024-04-21T10:36:37.166958Z",
     "iopub.status.busy": "2024-04-21T10:36:37.166446Z",
     "iopub.status.idle": "2024-04-21T10:36:37.174859Z",
     "shell.execute_reply": "2024-04-21T10:36:37.173682Z"
    },
    "papermill": {
     "duration": 0.023396,
     "end_time": "2024-04-21T10:36:37.177693",
     "exception": false,
     "start_time": "2024-04-21T10:36:37.154297",
     "status": "completed"
    },
    "tags": []
   },
   "outputs": [
    {
     "data": {
      "text/plain": [
       "6"
      ]
     },
     "execution_count": 10,
     "metadata": {},
     "output_type": "execute_result"
    }
   ],
   "source": [
    "vec = np.array([0, 1, 1, 1, 0, 0])\n",
    "len(vec)\n"
   ]
  },
  {
   "cell_type": "markdown",
   "id": "c305281c",
   "metadata": {
    "papermill": {
     "duration": 0.009429,
     "end_time": "2024-04-21T10:36:37.196895",
     "exception": false,
     "start_time": "2024-04-21T10:36:37.187466",
     "status": "completed"
    },
    "tags": []
   },
   "source": [
    "**Describing Qualitative Data**\n",
    "1. Simple Bar Chart\n",
    "2. Composite Bar Chart"
   ]
  },
  {
   "cell_type": "markdown",
   "id": "dd563d2a",
   "metadata": {
    "papermill": {
     "duration": 0.009248,
     "end_time": "2024-04-21T10:36:37.215764",
     "exception": false,
     "start_time": "2024-04-21T10:36:37.206516",
     "status": "completed"
    },
    "tags": []
   },
   "source": [
    "**Simple Bar Chart**"
   ]
  },
  {
   "cell_type": "code",
   "execution_count": 11,
   "id": "ac89ccbb",
   "metadata": {
    "execution": {
     "iopub.execute_input": "2024-04-21T10:36:37.237370Z",
     "iopub.status.busy": "2024-04-21T10:36:37.236896Z",
     "iopub.status.idle": "2024-04-21T10:36:37.270145Z",
     "shell.execute_reply": "2024-04-21T10:36:37.268941Z"
    },
    "papermill": {
     "duration": 0.047596,
     "end_time": "2024-04-21T10:36:37.273132",
     "exception": false,
     "start_time": "2024-04-21T10:36:37.225536",
     "status": "completed"
    },
    "tags": []
   },
   "outputs": [
    {
     "data": {
      "text/html": [
       "<div>\n",
       "<style scoped>\n",
       "    .dataframe tbody tr th:only-of-type {\n",
       "        vertical-align: middle;\n",
       "    }\n",
       "\n",
       "    .dataframe tbody tr th {\n",
       "        vertical-align: top;\n",
       "    }\n",
       "\n",
       "    .dataframe thead th {\n",
       "        text-align: right;\n",
       "    }\n",
       "</style>\n",
       "<table border=\"1\" class=\"dataframe\">\n",
       "  <thead>\n",
       "    <tr style=\"text-align: right;\">\n",
       "      <th>col_0</th>\n",
       "      <th>count</th>\n",
       "    </tr>\n",
       "    <tr>\n",
       "      <th>Survived</th>\n",
       "      <th></th>\n",
       "    </tr>\n",
       "  </thead>\n",
       "  <tbody>\n",
       "    <tr>\n",
       "      <th>0</th>\n",
       "      <td>549</td>\n",
       "    </tr>\n",
       "    <tr>\n",
       "      <th>1</th>\n",
       "      <td>342</td>\n",
       "    </tr>\n",
       "  </tbody>\n",
       "</table>\n",
       "</div>"
      ],
      "text/plain": [
       "col_0     count\n",
       "Survived       \n",
       "0           549\n",
       "1           342"
      ]
     },
     "execution_count": 11,
     "metadata": {},
     "output_type": "execute_result"
    }
   ],
   "source": [
    "survival_count = pd.crosstab(index=df['Survived'], columns='count')\n",
    "survival_count"
   ]
  },
  {
   "cell_type": "code",
   "execution_count": 12,
   "id": "44d93af6",
   "metadata": {
    "execution": {
     "iopub.execute_input": "2024-04-21T10:36:37.295515Z",
     "iopub.status.busy": "2024-04-21T10:36:37.295052Z",
     "iopub.status.idle": "2024-04-21T10:36:37.310855Z",
     "shell.execute_reply": "2024-04-21T10:36:37.309460Z"
    },
    "papermill": {
     "duration": 0.030695,
     "end_time": "2024-04-21T10:36:37.313912",
     "exception": false,
     "start_time": "2024-04-21T10:36:37.283217",
     "status": "completed"
    },
    "tags": []
   },
   "outputs": [
    {
     "data": {
      "text/plain": [
       "Survived\n",
       "0    549\n",
       "1    342\n",
       "Name: count, dtype: int64"
      ]
     },
     "execution_count": 12,
     "metadata": {},
     "output_type": "execute_result"
    }
   ],
   "source": [
    "survival_count = df['Survived'].value_counts()\n",
    "survival_count"
   ]
  },
  {
   "cell_type": "code",
   "execution_count": 13,
   "id": "c5f08b8a",
   "metadata": {
    "execution": {
     "iopub.execute_input": "2024-04-21T10:36:37.338524Z",
     "iopub.status.busy": "2024-04-21T10:36:37.337994Z",
     "iopub.status.idle": "2024-04-21T10:36:37.354380Z",
     "shell.execute_reply": "2024-04-21T10:36:37.352764Z"
    },
    "papermill": {
     "duration": 0.033914,
     "end_time": "2024-04-21T10:36:37.358176",
     "exception": false,
     "start_time": "2024-04-21T10:36:37.324262",
     "status": "completed"
    },
    "tags": []
   },
   "outputs": [
    {
     "data": {
      "text/html": [
       "<div>\n",
       "<style scoped>\n",
       "    .dataframe tbody tr th:only-of-type {\n",
       "        vertical-align: middle;\n",
       "    }\n",
       "\n",
       "    .dataframe tbody tr th {\n",
       "        vertical-align: top;\n",
       "    }\n",
       "\n",
       "    .dataframe thead th {\n",
       "        text-align: right;\n",
       "    }\n",
       "</style>\n",
       "<table border=\"1\" class=\"dataframe\">\n",
       "  <thead>\n",
       "    <tr style=\"text-align: right;\">\n",
       "      <th></th>\n",
       "      <th>Type</th>\n",
       "      <th>count</th>\n",
       "    </tr>\n",
       "  </thead>\n",
       "  <tbody>\n",
       "    <tr>\n",
       "      <th>0</th>\n",
       "      <td>0</td>\n",
       "      <td>549</td>\n",
       "    </tr>\n",
       "    <tr>\n",
       "      <th>1</th>\n",
       "      <td>1</td>\n",
       "      <td>342</td>\n",
       "    </tr>\n",
       "  </tbody>\n",
       "</table>\n",
       "</div>"
      ],
      "text/plain": [
       "   Type  count\n",
       "0     0    549\n",
       "1     1    342"
      ]
     },
     "execution_count": 13,
     "metadata": {},
     "output_type": "execute_result"
    }
   ],
   "source": [
    "survival_count = df['Survived'].value_counts().rename_axis(\"Type\").reset_index()\n",
    "survival_count"
   ]
  },
  {
   "cell_type": "code",
   "execution_count": 14,
   "id": "20c3668b",
   "metadata": {
    "execution": {
     "iopub.execute_input": "2024-04-21T10:36:37.386145Z",
     "iopub.status.busy": "2024-04-21T10:36:37.385714Z",
     "iopub.status.idle": "2024-04-21T10:36:37.402592Z",
     "shell.execute_reply": "2024-04-21T10:36:37.401182Z"
    },
    "papermill": {
     "duration": 0.034395,
     "end_time": "2024-04-21T10:36:37.406007",
     "exception": false,
     "start_time": "2024-04-21T10:36:37.371612",
     "status": "completed"
    },
    "tags": []
   },
   "outputs": [
    {
     "data": {
      "text/html": [
       "<div>\n",
       "<style scoped>\n",
       "    .dataframe tbody tr th:only-of-type {\n",
       "        vertical-align: middle;\n",
       "    }\n",
       "\n",
       "    .dataframe tbody tr th {\n",
       "        vertical-align: top;\n",
       "    }\n",
       "\n",
       "    .dataframe thead th {\n",
       "        text-align: right;\n",
       "    }\n",
       "</style>\n",
       "<table border=\"1\" class=\"dataframe\">\n",
       "  <thead>\n",
       "    <tr style=\"text-align: right;\">\n",
       "      <th></th>\n",
       "      <th>Type</th>\n",
       "      <th>count</th>\n",
       "      <th>Percentage</th>\n",
       "    </tr>\n",
       "  </thead>\n",
       "  <tbody>\n",
       "    <tr>\n",
       "      <th>0</th>\n",
       "      <td>0</td>\n",
       "      <td>549</td>\n",
       "      <td>61.616162</td>\n",
       "    </tr>\n",
       "    <tr>\n",
       "      <th>1</th>\n",
       "      <td>1</td>\n",
       "      <td>342</td>\n",
       "      <td>38.383838</td>\n",
       "    </tr>\n",
       "  </tbody>\n",
       "</table>\n",
       "</div>"
      ],
      "text/plain": [
       "   Type  count  Percentage\n",
       "0     0    549   61.616162\n",
       "1     1    342   38.383838"
      ]
     },
     "execution_count": 14,
     "metadata": {},
     "output_type": "execute_result"
    }
   ],
   "source": [
    "survival_count['Percentage'] = survival_count['count'] / survival_count['count'].sum() * 100\n",
    "survival_count"
   ]
  },
  {
   "cell_type": "code",
   "execution_count": 15,
   "id": "65b388f6",
   "metadata": {
    "execution": {
     "iopub.execute_input": "2024-04-21T10:36:37.430993Z",
     "iopub.status.busy": "2024-04-21T10:36:37.430027Z",
     "iopub.status.idle": "2024-04-21T10:36:37.752521Z",
     "shell.execute_reply": "2024-04-21T10:36:37.751268Z"
    },
    "papermill": {
     "duration": 0.338145,
     "end_time": "2024-04-21T10:36:37.755722",
     "exception": false,
     "start_time": "2024-04-21T10:36:37.417577",
     "status": "completed"
    },
    "tags": []
   },
   "outputs": [
    {
     "data": {
      "text/plain": [
       "[Text(0.5, 0, 'Survival condition'),\n",
       " Text(0, 0.5, 'Count'),\n",
       " Text(0.5, 1.0, 'Composition of passengers by survival condition')]"
      ]
     },
     "execution_count": 15,
     "metadata": {},
     "output_type": "execute_result"
    },
    {
     "data": {
      "image/png": "[encoded data removed]",
      "text/plain": [
       "<Figure size 640x480 with 1 Axes>"
      ]
     },
     "metadata": {},
     "output_type": "display_data"
    }
   ],
   "source": [
    "p1 = sns.countplot(x='Survived', data=df, alpha=0.8, color = 'blue')\n",
    "p1.set(xlabel='Survival condition', ylabel='Count',\n",
    "       title='Composition of passengers by survival condition')"
   ]
  },
  {
   "cell_type": "code",
   "execution_count": 16,
   "id": "7aba873d",
   "metadata": {
    "execution": {
     "iopub.execute_input": "2024-04-21T10:36:37.781881Z",
     "iopub.status.busy": "2024-04-21T10:36:37.780381Z",
     "iopub.status.idle": "2024-04-21T10:36:38.129757Z",
     "shell.execute_reply": "2024-04-21T10:36:38.128427Z"
    },
    "papermill": {
     "duration": 0.365538,
     "end_time": "2024-04-21T10:36:38.132870",
     "exception": false,
     "start_time": "2024-04-21T10:36:37.767332",
     "status": "completed"
    },
    "tags": []
   },
   "outputs": [
    {
     "data": {
      "text/plain": [
       "[Text(0.5, 0, 'Survival condition'),\n",
       " Text(0, 0.5, 'Percentage (%)'),\n",
       " Text(0.5, 1.0, 'Composition of passengers by survival condition')]"
      ]
     },
     "execution_count": 16,
     "metadata": {},
     "output_type": "execute_result"
    },
    {
     "data": {
      "image/png": "[encoded data removed]",
      "text/plain": [
       "<Figure size 640x480 with 1 Axes>"
      ]
     },
     "metadata": {},
     "output_type": "display_data"
    }
   ],
   "source": [
    "p2 = sns.barplot(x= 'Survived',\n",
    "                 y = 'Survived',\n",
    "                 data = df,\n",
    "                 estimator = lambda x: len(x) / len(df) * 100,\n",
    "                 color = 'blue')\n",
    "p2.set(xlabel='Survival condition', ylabel='Percentage (%)',\n",
    "       title = 'Composition of passengers by survival condition')"
   ]
  }
 ],
 "metadata": {
  "kaggle": {
   "accelerator": "none",
   "dataSources": [
    {
     "datasetId": 4845242,
     "sourceId": 8183325,
     "sourceType": "datasetVersion"
    }
   ],
   "dockerImageVersionId": 30698,
   "isGpuEnabled": false,
   "isInternetEnabled": true,
   "language": "python",
   "sourceType": "notebook"
  },
  "kernelspec": {
   "display_name": "Python 3",
   "language": "python",
   "name": "python3"
  },
  "language_info": {
   "codemirror_mode": {
    "name": "ipython",
    "version": 3
   },
   "file_extension": ".py",
   "mimetype": "text/x-python",
   "name": "python",
   "nbconvert_exporter": "python",
   "pygments_lexer": "ipython3",
   "version": "3.10.13"
  },
  "papermill": {
   "default_parameters": {},
   "duration": 9.714588,
   "end_time": "2024-04-21T10:36:39.070190",
   "environment_variables": {},
   "exception": null,
   "input_path": "__notebook__.ipynb",
   "output_path": "__notebook__.ipynb",
   "parameters": {},
   "start_time": "2024-04-21T10:36:29.355602",
   "version": "2.5.0"
  }
 },
 "nbformat": 4,
 "nbformat_minor": 5
}
